{
  "nbformat": 4,
  "nbformat_minor": 0,
  "metadata": {
    "colab": {
      "name": "2021-11-30-test.ipynb",
      "provenance": [],
      "authorship_tag": "ABX9TyNfu3GDc8pqh1oWpMk8Cgy8"
    },
    "kernelspec": {
      "name": "python3",
      "display_name": "Python 3"
    },
    "language_info": {
      "name": "python"
    }
  },
  "cells": [
    {
      "cell_type": "code",
      "metadata": {
        "colab": {
          "base_uri": "https://localhost:8080/"
        },
        "id": "BLLibYVDUb12",
        "outputId": "7ae818ea-c4a9-4ef0-b221-cc4208a5570b"
      },
      "source": [
        "print('test')"
      ],
      "execution_count": null,
      "outputs": [
        {
          "output_type": "stream",
          "name": "stdout",
          "text": [
            "test\n"
          ]
        }
      ]
    },
    {
      "cell_type": "markdown",
      "metadata": {
        "id": "k0fMFJF1UhrK"
      },
      "source": [
        "TEST TEST"
      ]
    }
  ]
}