{
  "nbformat": 4,
  "nbformat_minor": 0,
  "metadata": {
    "colab": {
      "name": "2021-12-01-python-incepatori.ipynb",
      "provenance": [],
      "collapsed_sections": [],
      "toc_visible": true,
      "authorship_tag": "ABX9TyNYfZ9cychmgQeevc/cu1sF",
      "include_colab_link": true
    },
    "kernelspec": {
      "name": "python3",
      "display_name": "Python 3"
    },
    "language_info": {
      "name": "python"
    }
  },
  "cells": [
    {
      "cell_type": "markdown",
      "metadata": {
        "id": "view-in-github",
        "colab_type": "text"
      },
      "source": [
        "<a href=\"https://colab.research.google.com/github/ineszz/cartea-de-python-incepatori/blob/master/_notebooks/2021-12-01-python-incepatori.ipynb\" target=\"_parent\"><img src=\"https://colab.research.google.com/assets/colab-badge.svg\" alt=\"Open In Colab\"/></a>"
      ]
    },
    {
      "cell_type": "markdown",
      "metadata": {
        "id": "zlVBkEUjg5mB"
      },
      "source": [
        "# python incepatori\n",
        "> \"Notite stranse pentru sau dupa atelierele de Python Incepatori - CoderDojo Bucuresti 2021/2022\"\n",
        "\n",
        "- toc: false\n",
        "- branch: main\n",
        "- badges: true\n",
        "- author: ineszz\n",
        "- comments: true\n",
        "- categories: [python]\n",
        "- hide: false"
      ]
    },
    {
      "cell_type": "markdown",
      "metadata": {
        "id": "3pMbkMv_jKqK"
      },
      "source": [
        "\n",
        "![](https://www.python.org/static/community_logos/python-logo.png)\n",
        "\n",
        "# Introducere lectia 1"
      ]
    },
    {
      "cell_type": "markdown",
      "metadata": {
        "id": "u_G5pqpvj4Gp"
      },
      "source": [
        "## 👨🏽‍💻 Ce este programarea?\n",
        "\n",
        "Exista nenumarate definitii, dar cea care imi place mie este:\n",
        "\n",
        "> Programarea este modalitatea prin care faci calculatoarele sa rezolve probleme\n",
        "\n",
        "Eu - programatorul: Daca nu exista programatorul, calculatorul este nefolositor.  Calculatorul (PC/Laptop/ etc) face ceea ce ii spun eu sa faca.\n",
        "\n",
        "Rezolva probleme: Calculatorul este un instrument. Este un instrument complex, care ne ajuta sa simplicam activitatile. Nu este magie sau mister, ci doar algoritmi care sunt scrisi de programator pentru a rezolva o problema :-)"
      ]
    },
    {
      "cell_type": "markdown",
      "metadata": {
        "id": "SGYGlzJ2j3H9"
      },
      "source": [
        "**Exemplificarea comenzilor executate de un calculator** \n",
        "\n",
        "![](https://s3-eu-west-1.amazonaws.com/rpf-futurelearn/programming-101-educators/Illustrations+and+animations/1.5-What-Is-Programming.gif) \n",
        "animation source: [https://rpf.io/trainonline](https://rpf.io/trainonline)\n",
        "\n",
        "Aceste instructiuni sunt combinate intr-un mod logic si sunt fundamentul programarii\n",
        "\n",
        "*   **Secventa**: rularea instructiunilor in ordine \n",
        "*   **Selectie**: faci alegeri\n",
        "*   **Repetitie** : reproducerea unui lucru de mai multe ori, mai mult de o data, asa numita **iteratie** "
      ]
    },
    {
      "cell_type": "code",
      "metadata": {
        "id": "nfduycVSkN2e"
      },
      "source": [
        "# Exemplu program python simplu\n",
        "print(\"Buna si bine ati venit!\")\n",
        "name = input(\"Care este numele tau?\")\n",
        "if name == \"ineszz\":\n",
        "    print(\"Asa ma cheama si pe mine! :-)\")\n",
        "print(\"Buna \" + name)"
      ],
      "execution_count": null,
      "outputs": []
    },
    {
      "cell_type": "markdown",
      "metadata": {
        "id": "JzneMs9TkjQq"
      },
      "source": [
        "## 🐍 **Ce este Python?**\n",
        "\n",
        "Python este un limbaj de programare orientata obiect, foarte popular in domeniul Tehnologiei.\n",
        "\n",
        " 🐍 este:\n",
        "\n",
        "*   usor de invatat si utilizat\n",
        "*   contine cod gata de folosit ( e.g. biblioteci de coduri pregrogramate, similar blocurilor din Stratch)\n",
        "*   util in activitatea de zi cu zi a companiilor mici sau mari, precum Google, NASA, Pixar, Youtube, Facebook, BBC, Raspberry Pi, altele...\n",
        "\n",
        "Pagina oficiala a acestui limbaj de programare este: [https://www.python.org/](https://www.python.org/)"
      ]
    },
    {
      "cell_type": "markdown",
      "metadata": {
        "id": "ItES_ZsRkvme"
      },
      "source": [
        "## ***Cum se foloseste Python?***\n",
        "\n",
        "Pentru a coda in Python, este nevoie de un editor text si un interpretator de Python. Programatorul scrie cod in editor, iar interpretatorul de Python executa codul scris de programator.\n",
        "\n",
        "De obicei, editorul si interpretatorul sunt disponibile in IDE ( **I**ntegrated **D**evelopment **E**nvironment). IDE poate fi disponibil local sau online, caz in care nu trebuie nimic instalat.\n",
        "\n",
        "\n",
        "1. Descarcă Python pe laptopul tău\n",
        "\n",
        "* instaleaza python local pe laptopul personal de [ aici ](https://wiki.python.org/moin/BeginnersGuide/Download)\n",
        "* instaleaza un editor, de exemplu [mu](https://codewith.mu/) [aici downloadeaza](https://codewith.mu/en/download)\n",
        "\n",
        "2. Folosește Python online\n",
        "\n",
        "* Acest limbaj poate fi accesat si folosit direct din browser, folosindu-ne de un user si parola, similar Scratch sau Google.\n",
        "* Servicii online prin care se poate accesa python: trinket, kaggle, google colab, etc."
      ]
    },
    {
      "cell_type": "markdown",
      "metadata": {
        "id": "i4IwUvXJk8-f"
      },
      "source": [
        "**(Optional)**: review https://projects.raspberrypi.org/en/projects/python-install-options"
      ]
    },
    {
      "cell_type": "markdown",
      "metadata": {
        "id": "AnMJI-rDlKV2"
      },
      "source": [
        "## Primul meu program Python\n"
      ]
    },
    {
      "cell_type": "markdown",
      "metadata": {
        "id": "sizTxb1fmLO2"
      },
      "source": [
        "Cateva exemple de exersat pentru pornire"
      ]
    },
    {
      "cell_type": "code",
      "metadata": {
        "colab": {
          "base_uri": "https://localhost:8080/"
        },
        "id": "8fx7dBNXmlym",
        "outputId": "69d53448-1223-4b5a-cf6a-7dce50f29d88"
      },
      "source": [
        "# un program simplu\n",
        "print(\"Buna\")"
      ],
      "execution_count": null,
      "outputs": [
        {
          "output_type": "stream",
          "name": "stdout",
          "text": [
            "Hi\n"
          ]
        }
      ]
    },
    {
      "cell_type": "code",
      "metadata": {
        "id": "8pF94tbym5Nz"
      },
      "source": [
        "# un program format dintr-o secventa scrisa pe 2 randuri\n",
        "print(\"Buna\")\n",
        "print(\"Sunt un program de calculator\")"
      ],
      "execution_count": null,
      "outputs": []
    },
    {
      "cell_type": "markdown",
      "metadata": {
        "id": "PhoXshm2lVVb"
      },
      "source": [
        "## 👉 **RETINE** 👩🏼‍🏫 Elemente exersate\n",
        "\n",
        "\n",
        "1. Functii: print si input sunt exemple de functii, programe care de obicei realizeaza o singura actiune; e.g. print - afiseaza text pe ecran\n",
        "2. Parametri: informatie atribuita unei functii in paranteze, e.g. \"Hi\" in print(\"Hi\")\n",
        "3. Variabila: o bucata de informatie care poate fi reutilizate in program\n",
        "4. String: variabila tip text\n",
        "5. Integer: variabila tip numar intreg\n",
        "6. Operator: = , +"
      ]
    },
    {
      "cell_type": "markdown",
      "metadata": {
        "id": "BqzRvyrdT-9R"
      },
      "source": [
        "## Exercitii"
      ]
    },
    {
      "cell_type": "markdown",
      "metadata": {
        "id": "kjg9UpuLnNL1"
      },
      "source": [
        "Exercitiul 1: afiseaza pe ecran \"Hello Python World\""
      ]
    },
    {
      "cell_type": "code",
      "metadata": {
        "colab": {
          "base_uri": "https://localhost:8080/"
        },
        "id": "l2mKH5DUm_rx",
        "outputId": "d022cc64-b595-4799-eeff-24cb6b3ff348"
      },
      "source": [
        "#collapse-hide\n",
        "print(\"Hello Python World\")"
      ],
      "execution_count": null,
      "outputs": [
        {
          "output_type": "stream",
          "name": "stdout",
          "text": [
            "Hello Python World\n"
          ]
        }
      ]
    },
    {
      "cell_type": "markdown",
      "metadata": {
        "id": "cEjI4GewTP5f"
      },
      "source": [
        "Exercitiul 2: afiseaza pe ecran \"Hello Ines!\""
      ]
    },
    {
      "cell_type": "code",
      "metadata": {
        "colab": {
          "base_uri": "https://localhost:8080/"
        },
        "id": "AZAENOe6TY1F",
        "outputId": "91fce56b-4716-4e7e-deb9-04dd244c439d"
      },
      "source": [
        "#collapse-hide\n",
        "name = \"Ines\"\n",
        "print(\"Hello\", name, \", \", name, \", the first \", name )\t# with a comma\n",
        "print(\"Hello\", name + \", \" + name + \", the first \" + name)\t# with a +"
      ],
      "execution_count": 2,
      "outputs": [
        {
          "output_type": "stream",
          "name": "stdout",
          "text": [
            "Hello Ines ,  Ines , the first  Ines\n",
            "Hello Ines, Ines, the first Ines\n"
          ]
        }
      ]
    },
    {
      "cell_type": "markdown",
      "metadata": {
        "id": "LUoi59UOTp64"
      },
      "source": [
        "Exercitiul 3: afiseaza pe ecran \"Hello 2021!\" folosind o variabila pentru an."
      ]
    },
    {
      "cell_type": "code",
      "metadata": {
        "colab": {
          "base_uri": "https://localhost:8080/"
        },
        "id": "P-4XnGbUT6bP",
        "outputId": "91fce56b-4716-4e7e-deb9-04dd244c439d"
      },
      "source": [
        "#collapse-hide\n",
        "name = \"Ines\"\n",
        "print(\"Hello\", name, \", \", name, \", the first \", name )\t# with a comma\n",
        "print(\"Hello\", name + \", \" + name + \", the first \" + name)\t# with a +"
      ],
      "execution_count": null,
      "outputs": [
        {
          "output_type": "stream",
          "name": "stdout",
          "text": [
            "Hello Ines ,  Ines , the first  Ines\n",
            "Hello Ines, Ines, the first Ines\n"
          ]
        }
      ]
    },
    {
      "cell_type": "markdown",
      "metadata": {
        "id": "K-3xaPzgUiqN"
      },
      "source": [
        "**Exercitiul** 4: afiseaza pe ecran \"Imi place sa mananc sushi si pizza.\" folosind  variabile pentru fiecare mancare preferata."
      ]
    },
    {
      "cell_type": "code",
      "metadata": {
        "id": "ODlYg9rhVALA"
      },
      "source": [
        "#collapse-hide\n",
        "mancare1 = \"sushi\"\n",
        "mancare2 = \"pizza\"\n",
        "print(\"Imi place sa mananc {} si {}\".format(mancare1, mancare2) ) # with .format()\n",
        "print(f\"Imi place sa mananc {mancare1} si {mancare2}\") # with an f string"
      ],
      "execution_count": null,
      "outputs": []
    },
    {
      "cell_type": "markdown",
      "metadata": {
        "id": "aXx-RssfUkb6"
      },
      "source": [
        "Exercitiul 5: creeaza un bot pe nume CoderBot folosind operatiuni de print, input si output"
      ]
    },
    {
      "cell_type": "code",
      "metadata": {
        "id": "UL8baC-aVRH9"
      },
      "source": [
        "#collapse-hide\n",
        "print(\"Hi, I am CoderBot, your personal bot.\")\n",
        "user_name = input (\"What is your name?\")\n",
        "print (\"Hello \" + user_name + \"! Welcome\")\n",
        "print (\"Nice to meet you\",)"
      ],
      "execution_count": null,
      "outputs": []
    },
    {
      "cell_type": "markdown",
      "metadata": {
        "id": "71dFZzssUkvw"
      },
      "source": [
        "Exercitiul 6:  adauga bot-ului cateva elemente noi. De exemplu sa calculeze 2 numere introduse de utilizator si sa afiseze rezultatul."
      ]
    },
    {
      "cell_type": "code",
      "metadata": {
        "id": "JHFzqiiEVRxg"
      },
      "source": [
        "#collapse-hide\n",
        "input1 = int(input(\"Number 1> \"))\n",
        "input2 = int(input(\"Number 2> \"))\n",
        "result = input1 + input2\n",
        "print(result)"
      ],
      "execution_count": null,
      "outputs": []
    },
    {
      "cell_type": "markdown",
      "metadata": {
        "id": "rJb5Ue3NWAuF"
      },
      "source": [
        "# Lectia 2 - TBU"
      ]
    }
  ]
}