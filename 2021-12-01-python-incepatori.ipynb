{
  "nbformat": 4,
  "nbformat_minor": 0,
  "metadata": {
    "colab": {
      "name": "2021-12-01-python-incepatori.ipynb",
      "provenance": [],
      "collapsed_sections": [],
      "toc_visible": true,
      "authorship_tag": "ABX9TyNTf3V3sEtDa6i6do98G6bw",
      "include_colab_link": true
    },
    "kernelspec": {
      "name": "python3",
      "display_name": "Python 3"
    },
    "language_info": {
      "name": "python"
    }
  },
  "cells": [
    {
      "cell_type": "markdown",
      "metadata": {
        "id": "view-in-github",
        "colab_type": "text"
      },
      "source": [
        "<a href=\"https://colab.research.google.com/github/ineszz/cartea-de-python-incepatori/blob/master/2021-12-01-python-incepatori.ipynb\" target=\"_parent\"><img src=\"https://colab.research.google.com/assets/colab-badge.svg\" alt=\"Open In Colab\"/></a>"
      ]
    },
    {
      "cell_type": "markdown",
      "metadata": {
        "id": "zlVBkEUjg5mB"
      },
      "source": [
        "# python incepatori\n",
        "> \"Notite stranse pentru sau dupa atelierele de Python Incepatori - CoderDojo Bucuresti 2021/2022\"\n",
        "\n",
        "- toc: true\n",
        "- branch: main\n",
        "- badges: true\n",
        "- author: ineszz\n",
        "- comments: true\n",
        "- categories: [python]\n",
        "- hide: false"
      ]
    },
    {
      "cell_type": "markdown",
      "metadata": {
        "id": "3pMbkMv_jKqK"
      },
      "source": [
        "![image alt <](https://www.python.org/static/community_logos/python-logo.png)\n",
        "# Introducere <br>Lectia 1"
      ]
    },
    {
      "cell_type": "markdown",
      "metadata": {
        "id": "u_G5pqpvj4Gp"
      },
      "source": [
        "## 👨🏽‍💻 Ce este programarea?\n",
        "\n",
        "Exista nenumarate definitii, dar cea care imi place mie este:\n",
        "\n",
        "> Programarea este modalitatea prin care faci calculatoarele sa rezolve probleme\n",
        "\n",
        "Eu - programatorul: Daca nu exista programatorul, calculatorul este nefolositor.  Calculatorul (PC/Laptop/ etc) face ceea ce ii spun eu sa faca.\n",
        "\n",
        "Rezolva probleme: Calculatorul este un instrument. Este un instrument complex, care ne ajuta sa simplicam activitatile. Nu este magie sau mister, ci doar algoritmi care sunt scrisi de programator pentru a rezolva o problema :-)"
      ]
    },
    {
      "cell_type": "markdown",
      "metadata": {
        "id": "SGYGlzJ2j3H9"
      },
      "source": [
        "**Exemplificarea comenzilor executate de un calculator** \n",
        "\n",
        "![](https://s3-eu-west-1.amazonaws.com/rpf-futurelearn/programming-101-educators/Illustrations+and+animations/1.5-What-Is-Programming.gif) \n",
        "animation source: [https://rpf.io/trainonline](https://rpf.io/trainonline)\n",
        "\n",
        "Aceste instructiuni sunt combinate intr-un mod logic si sunt fundamentul programarii\n",
        "\n",
        "*   **Secventa**: rularea instructiunilor in ordine \n",
        "*   **Selectie**: faci alegeri\n",
        "*   **Repetitie** : reproducerea unui lucru de mai multe ori, mai mult de o data, asa numita **iteratie** "
      ]
    },
    {
      "cell_type": "code",
      "metadata": {
        "id": "nfduycVSkN2e"
      },
      "source": [
        "# Exemplu program python simplu\n",
        "print(\"Buna si bine ati venit!\")\n",
        "name = input(\"Care este numele tau?\")\n",
        "if name == \"ineszz\":\n",
        "    print(\"Asa ma cheama si pe mine! :-)\")\n",
        "print(\"Buna \" + name)"
      ],
      "execution_count": null,
      "outputs": []
    },
    {
      "cell_type": "markdown",
      "metadata": {
        "id": "JzneMs9TkjQq"
      },
      "source": [
        "## 🐍 **Ce este Python?**\n",
        "\n",
        "Python este un limbaj de programare orientata obiect, foarte popular in domeniul Tehnologiei.\n",
        "\n",
        " 🐍 este:\n",
        "\n",
        "*   usor de invatat si utilizat\n",
        "*   contine cod gata de folosit ( e.g. biblioteci de coduri pregrogramate, similar blocurilor din Stratch)\n",
        "*   util in activitatea de zi cu zi a companiilor mici sau mari, precum Google, NASA, Pixar, Youtube, Facebook, BBC, Raspberry Pi, altele...\n",
        "\n",
        "Pagina oficiala a acestui limbaj de programare este: [https://www.python.org/](https://www.python.org/)"
      ]
    },
    {
      "cell_type": "markdown",
      "metadata": {
        "id": "ItES_ZsRkvme"
      },
      "source": [
        "## ***Cum se foloseste Python?***\n",
        "\n",
        "Pentru a coda in Python, este nevoie de un editor text si un interpretator de Python. Programatorul scrie cod in editor, iar interpretatorul de Python executa codul scris de programator.\n",
        "\n",
        "De obicei, editorul si interpretatorul sunt disponibile in IDE ( **I**ntegrated **D**evelopment **E**nvironment). IDE poate fi disponibil local sau online, caz in care nu trebuie nimic instalat.\n",
        "\n",
        "\n",
        "1. Descarcă Python pe laptopul tău\n",
        "\n",
        "* instaleaza python local pe laptopul personal de [ aici ](https://wiki.python.org/moin/BeginnersGuide/Download)\n",
        "* instaleaza un editor, de exemplu [mu](https://codewith.mu/) [aici downloadeaza](https://codewith.mu/en/download)\n",
        "\n",
        "2. Folosește Python online\n",
        "\n",
        "* Acest limbaj poate fi accesat si folosit direct din browser, folosindu-ne de un user si parola, similar Scratch sau Google.\n",
        "* Servicii online prin care se poate accesa python: trinket, kaggle, google colab, etc."
      ]
    },
    {
      "cell_type": "markdown",
      "metadata": {
        "id": "i4IwUvXJk8-f"
      },
      "source": [
        "**(Optional)**: review https://projects.raspberrypi.org/en/projects/python-install-options"
      ]
    },
    {
      "cell_type": "markdown",
      "metadata": {
        "id": "AnMJI-rDlKV2"
      },
      "source": [
        "## Primul meu program Python\n"
      ]
    },
    {
      "cell_type": "markdown",
      "metadata": {
        "id": "sizTxb1fmLO2"
      },
      "source": [
        "Cateva exemple de exersat pentru pornire"
      ]
    },
    {
      "cell_type": "code",
      "metadata": {
        "id": "8fx7dBNXmlym"
      },
      "source": [
        "# un program simplu\n",
        "print(\"Buna\")"
      ],
      "execution_count": null,
      "outputs": []
    },
    {
      "cell_type": "code",
      "metadata": {
        "id": "8pF94tbym5Nz"
      },
      "source": [
        "# un program format dintr-o secventa scrisa pe 2 randuri\n",
        "print(\"Buna\")\n",
        "print(\"Sunt un program de calculator\")"
      ],
      "execution_count": null,
      "outputs": []
    },
    {
      "cell_type": "markdown",
      "metadata": {
        "id": "PhoXshm2lVVb"
      },
      "source": [
        "## 👉 **RETINE** 👩🏼‍🏫 Elemente exersate\n",
        "\n",
        "\n",
        "1. Functii: print si input sunt exemple de functii, programe care de obicei realizeaza o singura actiune; e.g. print - afiseaza text pe ecran\n",
        "2. Parametri: informatie atribuita unei functii in paranteze, e.g. \"Hi\" in print(\"Hi\")\n",
        "3. Variabila: o bucata de informatie care poate fi reutilizate in program\n",
        "4. String: variabila tip text\n",
        "5. Integer: variabila tip numar intreg\n",
        "6. Operator: = , +"
      ]
    },
    {
      "cell_type": "markdown",
      "metadata": {
        "id": "BqzRvyrdT-9R"
      },
      "source": [
        "## Exercitii"
      ]
    },
    {
      "cell_type": "markdown",
      "metadata": {
        "id": "kjg9UpuLnNL1"
      },
      "source": [
        "Exercitiul 1: afiseaza pe ecran \"Hello Python World\""
      ]
    },
    {
      "cell_type": "code",
      "metadata": {
        "id": "l2mKH5DUm_rx"
      },
      "source": [
        "#collapse-hide\n",
        "print(\"Hello Python World\")"
      ],
      "execution_count": null,
      "outputs": []
    },
    {
      "cell_type": "markdown",
      "metadata": {
        "id": "cEjI4GewTP5f"
      },
      "source": [
        "Exercitiul 2: afiseaza pe ecran \"Hello Ines!\""
      ]
    },
    {
      "cell_type": "code",
      "metadata": {
        "id": "AZAENOe6TY1F"
      },
      "source": [
        "#collapse-hide\n",
        "name = \"Ines\"\n",
        "print(\"Hello\", name, \", \", name, \", the first \", name )\t# with a comma\n",
        "print(\"Hello\", name + \", \" + name + \", the first \" + name)\t# with a +"
      ],
      "execution_count": null,
      "outputs": []
    },
    {
      "cell_type": "markdown",
      "metadata": {
        "id": "LUoi59UOTp64"
      },
      "source": [
        "Exercitiul 3: afiseaza pe ecran \"Hello 2021!\" folosind o variabila pentru an."
      ]
    },
    {
      "cell_type": "code",
      "metadata": {
        "id": "P-4XnGbUT6bP"
      },
      "source": [
        "#collapse-hide\n",
        "name = \"Ines\"\n",
        "print(\"Hello\", name, \", \", name, \", the first \", name )\t# with a comma\n",
        "print(\"Hello\", name + \", \" + name + \", the first \" + name)\t# with a +"
      ],
      "execution_count": null,
      "outputs": []
    },
    {
      "cell_type": "markdown",
      "metadata": {
        "id": "K-3xaPzgUiqN"
      },
      "source": [
        "**Exercitiul** 4: afiseaza pe ecran \"Imi place sa mananc sushi si pizza.\" folosind  variabile pentru fiecare mancare preferata."
      ]
    },
    {
      "cell_type": "code",
      "metadata": {
        "id": "ODlYg9rhVALA"
      },
      "source": [
        "#collapse-hide\n",
        "mancare1 = \"sushi\"\n",
        "mancare2 = \"pizza\"\n",
        "print(\"Imi place sa mananc {} si {}\".format(mancare1, mancare2) ) # with .format()\n",
        "print(f\"Imi place sa mananc {mancare1} si {mancare2}\") # with an f string"
      ],
      "execution_count": null,
      "outputs": []
    },
    {
      "cell_type": "markdown",
      "metadata": {
        "id": "aXx-RssfUkb6"
      },
      "source": [
        "Exercitiul 5: creeaza un bot pe nume CoderBot folosind operatiuni de print, input si output"
      ]
    },
    {
      "cell_type": "code",
      "metadata": {
        "id": "UL8baC-aVRH9"
      },
      "source": [
        "#collapse-hide\n",
        "print(\"Hi, I am CoderBot, your personal bot.\")\n",
        "user_name = input (\"What is your name?\")\n",
        "print (\"Hello \" + user_name + \"! Welcome\")\n",
        "print (\"Nice to meet you\",)"
      ],
      "execution_count": null,
      "outputs": []
    },
    {
      "cell_type": "markdown",
      "metadata": {
        "id": "71dFZzssUkvw"
      },
      "source": [
        "Exercitiul 6:  adauga bot-ului cateva elemente noi. De exemplu sa calculeze 2 numere introduse de utilizator si sa afiseze rezultatul."
      ]
    },
    {
      "cell_type": "code",
      "metadata": {
        "id": "JHFzqiiEVRxg"
      },
      "source": [
        "#collapse-hide\n",
        "input1 = int(input(\"Number 1> \"))\n",
        "input2 = int(input(\"Number 2> \"))\n",
        "result = input1 + input2\n",
        "print(result)"
      ],
      "execution_count": null,
      "outputs": []
    },
    {
      "cell_type": "markdown",
      "metadata": {
        "id": "DJZ1ZNDqF2KB"
      },
      "source": [
        "# Introducere Lectia 2"
      ]
    },
    {
      "cell_type": "markdown",
      "metadata": {
        "id": "2_HWKX-HrJjK"
      },
      "source": [
        "## 👨🏽‍💻 Cum iau decizii calculatoarele?\n",
        "\n",
        "*Lectia anterioara, am construit un program din intructiuni cu comenzi input, print si variabile. Instructiunile erau scrise intr-o secventa.*\n",
        "\n",
        "Calculatoarele pot lua si decizii. Cum?\n",
        "\n",
        "De exemplu, \n",
        "* Ploua afara? Daca ploua [da], iau umbrela si cizmele de cauciuc.\n",
        "* Pot sa mananc dupa cina un desert de ciocolata? Da, daca am terminat de mancat cina\n",
        "* Pot sa sar in siguranta de pe stanca? Da, daca sunt in siguranta.\n",
        "\n",
        "Calculatoarele pot lua decizii folosind selectii si ,de obicei, acestea pot fi adevarata sau false. Daca sunt adevarate, **se ia o actiune A**; daca sunt false , se ia o **actiune B diferita**.\n",
        "\n",
        ">“Este inaltimea stancii mai mica decat nivelul de la care pot cadea? ”\n",
        "\n",
        "* Adevarat: Sari! Va fi ok! \n",
        "* Fals: Nu Sari!"
      ]
    },
    {
      "cell_type": "markdown",
      "metadata": {
        "id": "hXtEfRVbAWU8"
      },
      "source": [
        "**Exemplificarea deciziilor executate de un calculator** \n",
        "\n",
        "![](https://s3-eu-west-1.amazonaws.com/rpf-futurelearn/programming-101-educators/Illustrations+and+animations/2.1-How-Computers-Make-Decision.gif) \n",
        "\n",
        "source: https://rpf.io/trainonline"
      ]
    },
    {
      "cell_type": "markdown",
      "metadata": {
        "id": "7RQHowxMOhD6"
      },
      "source": [
        "## 🧑🏻‍💻 Sa exersam deciziile\n",
        "\n",
        "---\n",
        "\n"
      ]
    },
    {
      "cell_type": "markdown",
      "metadata": {
        "id": "woOtjYnOYg5l"
      },
      "source": [
        "###  1.Operatori de comparatie\n",
        "\n",
        "```python\n",
        "1 == 1\n",
        "1 == 2\n",
        "```\n",
        "\n",
        "```python\n",
        "1 > 2 \n",
        "1 < 2\n",
        "```\n",
        "\n",
        "```python\n",
        "1 != 2\n",
        "```\n",
        "**Atentie!**  \n",
        "* **=** se foloseste pentru atribuirea valorii unei variabile, \n",
        "* **==** verifica conditia, testeaza veridicitatea ipotezei.\n",
        "* **!=** inseamna diferit si este opusul lui **==**"
      ]
    },
    {
      "cell_type": "code",
      "metadata": {
        "id": "5Xb_wFClOUMo"
      },
      "source": [
        ""
      ],
      "execution_count": null,
      "outputs": []
    },
    {
      "cell_type": "code",
      "metadata": {
        "id": "DGu2vXMjYfnC"
      },
      "source": [
        "# Conditia 1\n",
        "1==1"
      ],
      "execution_count": null,
      "outputs": []
    },
    {
      "cell_type": "code",
      "metadata": {
        "id": "ARa5dnSKZefd"
      },
      "source": [
        "#Conditia 2\n",
        "1==2"
      ],
      "execution_count": null,
      "outputs": []
    },
    {
      "cell_type": "code",
      "metadata": {
        "id": "M_mdglN6Z5xB"
      },
      "source": [
        "# Operatori de comparatie 1\n",
        "1 > 2"
      ],
      "execution_count": null,
      "outputs": []
    },
    {
      "cell_type": "code",
      "metadata": {
        "id": "pdoVPVwuZ_tr"
      },
      "source": [
        "# Operatori de comparatie 2\n",
        "1 < 2"
      ],
      "execution_count": null,
      "outputs": []
    },
    {
      "cell_type": "code",
      "metadata": {
        "id": "MzoaMaU2aGC4"
      },
      "source": [
        "# Operator de comparatie 3\n",
        "1 != 2"
      ],
      "execution_count": null,
      "outputs": []
    },
    {
      "cell_type": "code",
      "metadata": {
        "id": "zIeoAhiTaaSj"
      },
      "source": [
        "# Operator de comparatie 4\n",
        "1 <= 2"
      ],
      "execution_count": null,
      "outputs": []
    },
    {
      "cell_type": "code",
      "metadata": {
        "id": "MubXrkkeazdC"
      },
      "source": [
        "# evaluare text\n",
        "\"salut\" == \"salut\""
      ],
      "execution_count": null,
      "outputs": []
    },
    {
      "cell_type": "code",
      "metadata": {
        "id": "fZuSaB2ha8jO"
      },
      "source": [
        "\"salut\" == \"pa\""
      ],
      "execution_count": null,
      "outputs": []
    },
    {
      "cell_type": "code",
      "metadata": {
        "id": "StqbqKk-a_hv"
      },
      "source": [
        "\"salut\" != \"pa\""
      ],
      "execution_count": null,
      "outputs": []
    },
    {
      "cell_type": "code",
      "metadata": {
        "id": "MAmYBnvQbGOU"
      },
      "source": [
        "# Ce rezultat credeti ca va intoarce?\n",
        "\"a\" < \"b\""
      ],
      "execution_count": null,
      "outputs": []
    },
    {
      "cell_type": "code",
      "metadata": {
        "id": "sg5KDZ9acFuY"
      },
      "source": [
        "# Dar in acest caz, ce rezultat credeti ca va intoarce?\n",
        "\"z\"<\"Z\""
      ],
      "execution_count": null,
      "outputs": []
    },
    {
      "cell_type": "code",
      "metadata": {
        "id": "LLaup1Wzbbzf"
      },
      "source": [
        "\"Z\" < \"z\""
      ],
      "execution_count": null,
      "outputs": []
    },
    {
      "cell_type": "markdown",
      "metadata": {
        "id": "06EXt8bybl7-"
      },
      "source": [
        "#### 👉 RETINE (Optional)\n",
        "Verifica tabelul cu atentie & revino cu intrebari :  https://www.asciitable.com/"
      ]
    },
    {
      "cell_type": "markdown",
      "metadata": {
        "id": "wxneHkUVegt_"
      },
      "source": [
        "###  2.Conditiile de tip **daca** (IF)\n",
        "\n",
        "```python\n",
        "conversatie = input(\"Hey nu am mai vorbit demult \")\n",
        "if conversatie == \"buna\":\n",
        "    print(\"buna\")\n",
        "print(\"pa pa!\")\n",
        "```"
      ]
    },
    {
      "cell_type": "code",
      "metadata": {
        "id": "NumaLMW4ezuX"
      },
      "source": [
        "conversatie = input(\"Hey nu am mai vorbit demult \")\n",
        "if conversatie == \"buna\":\n",
        "    print(\"buna\")\n",
        "print(\"pa pa!\")"
      ],
      "execution_count": null,
      "outputs": []
    },
    {
      "cell_type": "code",
      "metadata": {
        "id": "uhtxsv2bgR06"
      },
      "source": [
        "# Cum am putea folosi aceasta secventa de comenzi intr-un joc?\n",
        "# e.g.:\n",
        "phrase = input (\"Ai ajuns la nivelul 4?\")\n",
        "if phrase ==\"da\":\n",
        "  print(\"Mergi mai departe\")\n",
        "print(\"Game Over\")"
      ],
      "execution_count": null,
      "outputs": []
    },
    {
      "cell_type": "code",
      "metadata": {
        "id": "faPXpZ6Oh4qN"
      },
      "source": [
        "# e.g. evaluare stare de spirit\n",
        "phrase = input(\"Buna, cum te simti?>\")\n",
        "if phrase == \"bine\":\n",
        "    print(\"Super! Si eu!\")\n",
        "print(\"Pa pa!\")"
      ],
      "execution_count": null,
      "outputs": []
    },
    {
      "cell_type": "markdown",
      "metadata": {
        "id": "kHx_CpQxjBmo"
      },
      "source": [
        "###  3.Conditiile de tip **daca _ atunci** (IF THEN ELSE)\n",
        "\n",
        "```python\n",
        "conversatie = input(\"Hey nu am mai vorbit demult \")\n",
        "if conversatie == \"buna\":\n",
        "  print(\"buna\")\n",
        "else:\n",
        "  print(\"nu inteleg ce zici\")\n",
        "print(\"pa pa!\")\n",
        "```"
      ]
    },
    {
      "cell_type": "code",
      "metadata": {
        "id": "JCY3M-w3jVr5"
      },
      "source": [
        "conversatie = input(\"Hey nu am mai vorbit demult \")\n",
        "if conversatie == \"buna\":\n",
        "  print(\"buna\")\n",
        "else:\n",
        "  print(\"nu inteleg ce zici\")\n",
        "#print(\"pa pa!\")"
      ],
      "execution_count": null,
      "outputs": []
    },
    {
      "cell_type": "code",
      "metadata": {
        "id": "KjmDUzrfj8cx"
      },
      "source": [
        "# Cum am putea folosi aceasta secventa de comenzi intr-un joc?"
      ],
      "execution_count": null,
      "outputs": []
    },
    {
      "cell_type": "code",
      "metadata": {
        "id": "3jK5Vb7yheBN"
      },
      "source": [
        "# Cum putem testa daca s-a introdus un numar par/impar de la tastatura?\n",
        "# e.g.:\n",
        "number = input(\"Introduceti un numar intreg intre 1 si 100 \")\n",
        "num = int(number)\n",
        "if num%2==0:\n",
        "  print(\"Ai introdus un numar par\")\n",
        "else:\n",
        "  print(\"Ai introdus un numar impar\")\n",
        "print('Bravo!')"
      ],
      "execution_count": null,
      "outputs": []
    },
    {
      "cell_type": "markdown",
      "metadata": {
        "id": "2bkOlklPtIEN"
      },
      "source": [
        "###  4.Operatorii: 👟 👟AND, OR 👟👞 si NOT\n",
        "\n",
        "```python\n",
        "x=\"a\"\n",
        "y=\"b\"\n",
        "\n",
        "x and y\n",
        "x or y\n",
        "not x\n",
        "```"
      ]
    },
    {
      "cell_type": "code",
      "metadata": {
        "id": "a_0NfApztv9a"
      },
      "source": [
        "\"a\" or \"b\""
      ],
      "execution_count": null,
      "outputs": []
    },
    {
      "cell_type": "markdown",
      "metadata": {
        "id": "JkfCoRrUpCFk"
      },
      "source": [
        "###  5.Indentarea in scrierea codului Python\n",
        "\n",
        "\n",
        "1. Foloseste tasta **tab**. Aceasta te ajuta sa generezi acelasi numar de spatii necesare in indentare\n",
        "2. Ai rabdare cu editorul tau 😀: lasa-l sa indenteze codul acolo unde este posibil si foloseste numarul de spatii generate\n",
        "3. Mentine-ti codul curat! Daca nu este aliniat potrivit, codul nu va rula \n",
        "\n"
      ]
    },
    {
      "cell_type": "markdown",
      "metadata": {
        "id": "RgZCAm4OYZ8H"
      },
      "source": [
        "###  6.Bucle in Python 💫💻 \n",
        "\n",
        "---"
      ]
    },
    {
      "cell_type": "markdown",
      "metadata": {
        "id": "8jcOOMAcZxmT"
      },
      "source": [
        "Programele care includ linii repetate de cod pot fi consumatoare de tip si, uneori, greu de inteles. Pentru simplificarea acestor situatii se pot utiliza bucle ( de exemplu, \"FOR\" sau \"WHILE\")."
      ]
    },
    {
      "cell_type": "code",
      "source": [
        "print(1)\n",
        "print(2)\n",
        "print(3)"
      ],
      "metadata": {
        "colab": {
          "base_uri": "https://localhost:8080/"
        },
        "id": "GZtcBflU64L6",
        "outputId": "2e35e469-8137-4d6c-a108-ac45df01c764"
      },
      "execution_count": null,
      "outputs": [
        {
          "output_type": "stream",
          "name": "stdout",
          "text": [
            "1\n",
            "2\n",
            "3\n"
          ]
        }
      ]
    },
    {
      "cell_type": "code",
      "metadata": {
        "id": "bC7z2SIYaHWD",
        "colab": {
          "base_uri": "https://localhost:8080/"
        },
        "outputId": "bc7f3dae-666a-4ee9-db0b-01b98ed81b75"
      },
      "source": [
        "# Exemplu scriere in bucla\n",
        "for i in range(10):\n",
        "  print(i, end=' ')"
      ],
      "execution_count": null,
      "outputs": [
        {
          "output_type": "stream",
          "name": "stdout",
          "text": [
            "0 1 2 3 4 5 6 7 8 9 "
          ]
        }
      ]
    },
    {
      "cell_type": "code",
      "metadata": {
        "colab": {
          "base_uri": "https://localhost:8080/"
        },
        "id": "NtpYWNidafrV",
        "outputId": "7851849b-6fa5-4f41-a4a9-0614d423ed28"
      },
      "source": [
        "#Exemplu variabile bucla, pas cu pas\n",
        "for i in range(1,4):\n",
        "  print(i, end=' ')"
      ],
      "execution_count": null,
      "outputs": [
        {
          "output_type": "stream",
          "name": "stdout",
          "text": [
            "1 2 3 "
          ]
        }
      ]
    },
    {
      "cell_type": "code",
      "metadata": {
        "colab": {
          "base_uri": "https://localhost:8080/"
        },
        "id": "IO37WcnTazZX",
        "outputId": "b4bceebc-b3a6-4855-8f08-4c2c4108dcd3"
      },
      "source": [
        " "
      ],
      "execution_count": null,
      "outputs": [
        {
          "output_type": "stream",
          "name": "stdout",
          "text": [
            "2 5 8 "
          ]
        }
      ]
    },
    {
      "cell_type": "code",
      "metadata": {
        "colab": {
          "base_uri": "https://localhost:8080/"
        },
        "id": "9gJWRd4ka9i3",
        "outputId": "14f866d6-19e2-4072-b6d2-c0e7453832a6"
      },
      "source": [
        "# Exemplu variabile bucla cu numarare inversa\n",
        "for i in range(10,0,-1):\n",
        "  print(i, end=' ')"
      ],
      "execution_count": null,
      "outputs": [
        {
          "output_type": "stream",
          "name": "stdout",
          "text": [
            "10 9 8 7 6 5 4 3 2 1 "
          ]
        }
      ]
    },
    {
      "cell_type": "code",
      "metadata": {
        "id": "Fng6ZKT1bhy6",
        "colab": {
          "base_uri": "https://localhost:8080/"
        },
        "outputId": "c01436d9-4963-4c42-d23f-29c6c9e9af84"
      },
      "source": [
        "# Exemplu folosire bucla for, folosind liste\n",
        "colors = ['red', 'green', 'blue']\n",
        "print(colors)\n",
        "\n",
        "for color in colors:\n",
        "  print('I love ' + color)\n"
      ],
      "execution_count": null,
      "outputs": [
        {
          "output_type": "stream",
          "name": "stdout",
          "text": [
            "['red', 'green', 'blue']\n",
            "I love red\n",
            "I love green\n",
            "I love blue\n"
          ]
        }
      ]
    },
    {
      "cell_type": "code",
      "metadata": {
        "colab": {
          "base_uri": "https://localhost:8080/"
        },
        "id": "E-sW5V9XdHSn",
        "outputId": "40faab6b-e121-4b5f-d9c3-1018e442037e"
      },
      "source": [
        "# Exemplu folosire WHILE\n",
        "num=float(input(\"Introduce un numar intre 1 si 10 \"))\n",
        "while num <= 5:\n",
        "  print(num)\n",
        "  num += 1"
      ],
      "execution_count": null,
      "outputs": [
        {
          "output_type": "stream",
          "name": "stdout",
          "text": [
            "Introduce un numar intre 1 si 10 5\n",
            "5.0\n"
          ]
        }
      ]
    },
    {
      "cell_type": "markdown",
      "metadata": {
        "id": "YyXZyxr2FulF"
      },
      "source": [
        "## Exercitii Lectie"
      ]
    },
    {
      "cell_type": "code",
      "metadata": {
        "id": "a2FGqplRWxDS"
      },
      "source": [
        "#0.\n",
        "# Introduceti de la tastatura cifra si testati daca este mai mare ca 10. Daca este mai mare ca 10, afisati mesajul \"Numarul introdus este mai mare ca 10!\"\n",
        "# Introduceti de la tastatura cifra si testati daca este mai mare ca 10. Daca este mai mic ca 10, calculati produsul cu 10 si afisati mesajul \n",
        "#personalizat \"Numarul introdus genereaza produsul urmatoru [---]!\"\n",
        "\n",
        "\n",
        "#1.\n",
        "#construieste un program care sa citeasca de la tastatura varsta utilizatorului\n",
        "#in functie de varsta introdusa, ii vei afisa pe ecran un mesaj specific\n",
        "# 0-9 ani copil, 9-18 - adolescent, 18-65 adult, peste 65 varsta de aur\n",
        "\n",
        "#2.\n",
        "#construieste un program de asistenta de tip chatbot care sa evalueze daca utilizatorul cere ajutor\n",
        "# daca utilizatorul cere ajutor, i se va afisa pe ecran \"Cum te pot ajuta?\"\n",
        "# altfel daca nu se identifica corect, i se va afisa \"Sunt un asistent online de urgenta, nu inteleg ce spui. Te rog incearca din nou\""
      ],
      "execution_count": null,
      "outputs": []
    },
    {
      "cell_type": "code",
      "metadata": {
        "id": "rdkcsf7FWcZl"
      },
      "source": [
        "# varsta.py\n",
        "\n",
        "varsta = int(input(\"Introduceti varsta dvs.: \"))\n",
        "\n",
        "if varsta >= 0 and varsta <= 9:\n",
        "    print(\"Esti un copil!\")\n",
        "elif varsta > 9 and varsta <= 18:\n",
        "    print(\"Esti inca adolescent!\")\n",
        "elif varsta > 18 and varsta <= 65:\n",
        "    print(\"Este un adult!\")\n",
        "elif varsta > 65:\n",
        "    print(\"Varsta de aur!\")"
      ],
      "execution_count": null,
      "outputs": []
    },
    {
      "cell_type": "code",
      "metadata": {
        "id": "lzvrzIIdkI4w"
      },
      "source": [
        "# chatbot.py\n",
        "\n",
        "print(\"Bine ai venit\")\n",
        "numele_meu = \"Ines\"\n",
        "print(\"Eu sunt \" + numele_meu + \", asistentul tau personal\")\n",
        "propozitie = input(\"Pot sa te ajut cu ceva >\")\n",
        "if propozitie == \"ajuta-ma\":\n",
        "#if (propozitie == \"ajuta-ma\" or propozitie == \"ajutama\"):\n",
        "  print(\"Cum te pot ajuta?\")\n",
        "else:\n",
        "    print(\"Sunt un asistent online de urgenta, nu inteleg ce spui. Te rog incearca din nou\")\n",
        "print(\"Nota: acesta este un serviciu care inregistreaza toate interactiunile dvs.\")"
      ],
      "execution_count": null,
      "outputs": []
    },
    {
      "cell_type": "markdown",
      "metadata": {
        "id": "tHZT8qEv13sH"
      },
      "source": [
        "## 👉 **RETINE** 👩🏼‍🏫 Elemente exersate\n",
        "\n",
        "\n",
        "1. Functii: IF, IF THEN ELSE\n",
        "2. Operatori AND , OR, NOT\n",
        "2. Indentare & **tab**\n"
      ]
    },
    {
      "cell_type": "markdown",
      "metadata": {
        "id": "ly1HeuUGHy7t"
      },
      "source": [
        "Feedback Atelier 2: [click here](https://app.goretro.ai/dashboard/public-board/KxdVBCQVLzO8ANDT3Yjw7AWkNiYX0tAgwwE5lllMT6zQUPhCvY)"
      ]
    },
    {
      "cell_type": "markdown",
      "metadata": {
        "id": "PHyiQKqgC1hE"
      },
      "source": [
        "# Introducere Lectia 3"
      ]
    },
    {
      "cell_type": "markdown",
      "metadata": {
        "id": "C9s8FdUQC1hE"
      },
      "source": [
        "## 👨🏽‍💻 Variabile si Functii\n",
        "\n",
        "*Lectia anterioara, am exersat deciziile cu operatori de comparatie precum =, >, < sau AND , OR, NOT. Am folosit functiile If, If  then else si am facut iteratii folosind for & While.*\n",
        "\n",
        "**Functia** este un fragment de cod care indeplineste o anumita sarcina. Adica aduna tot codul intr-un pachet, i se atribuie un nume si poate fi oricand apelata ulterior. Functia ne ajuta sa simplicam codul unui program prin evitarea repetarii scrierii acelorasi linii de cod.\n",
        "\n",
        "* definirea functiei\n",
        "```python\n",
        "def salutari():\n",
        "  print(\"Salutari!\")\n",
        "```\n",
        "\n",
        "* apelarea functiei\n",
        "```python\n",
        "salutari()\n",
        "```\n"
      ]
    },
    {
      "cell_type": "code",
      "metadata": {
        "id": "Qy-WIbbXj5Yd",
        "colab": {
          "base_uri": "https://localhost:8080/"
        },
        "outputId": "ab31198f-1028-47a3-c06b-78cffe6b07dd"
      },
      "source": [
        "#Exemplificare\n",
        "def salutari():\n",
        "  print(\"Salutari!\")\n",
        "\n",
        "salutari()"
      ],
      "execution_count": null,
      "outputs": [
        {
          "output_type": "stream",
          "name": "stdout",
          "text": [
            "Salutari!\n"
          ]
        }
      ]
    },
    {
      "cell_type": "code",
      "source": [
        "salutari()"
      ],
      "metadata": {
        "colab": {
          "base_uri": "https://localhost:8080/"
        },
        "id": "dIrdnFm1HSTU",
        "outputId": "0ff96208-ee45-4dc7-ffb7-557bd8ed8b25"
      },
      "execution_count": null,
      "outputs": [
        {
          "output_type": "stream",
          "name": "stdout",
          "text": [
            "Salutari!\n"
          ]
        }
      ]
    },
    {
      "cell_type": "markdown",
      "metadata": {
        "id": "YrArtP7kC1hH"
      },
      "source": [
        "## 🧑🏻‍💻 Sa exersam functiile\n",
        "\n",
        "---\n",
        "\n"
      ]
    },
    {
      "cell_type": "markdown",
      "metadata": {
        "id": "WrrYAxTVC1hH"
      },
      "source": [
        "###  1.Recuperare datelor din functii\n",
        "\n",
        "```python\n",
        "def num_input(nbr):\n",
        "  typed=input(nbr)\n",
        "  num=int(typed)\n",
        "  return num\n",
        "\n",
        "a=num_input('Introduceti primul numar:')\n",
        "b=num_input('Introduceti al doilea numar:')\n",
        "print('a+b= ', a+b)\n",
        "```\n",
        "\n",
        "```python\n",
        "# valori default pentru parametri\n",
        "def make_pizza(topping='bacon'):\n",
        "    \"\"\"Serviti o pizza cu un singur topping.\"\"\"\n",
        "    print(\"Serviti o pizza cu \" + topping + \" !\")\n",
        "    \n",
        "make_pizza()\n",
        "make_pizza('pepperroni')\n",
        "```\n"
      ]
    },
    {
      "cell_type": "code",
      "source": [
        "def num_input(nbr):\n",
        "  typed=input(nbr)\n",
        "  num=int(typed)\n",
        "  return num"
      ],
      "metadata": {
        "id": "kYjhZQA2Hrny"
      },
      "execution_count": null,
      "outputs": []
    },
    {
      "cell_type": "code",
      "source": [
        "a=num_input('Introduceti primul numar:')\n",
        "b=num_input('Introduceti al doilea numar:')\n",
        "print('a+b= ', a+b)"
      ],
      "metadata": {
        "colab": {
          "base_uri": "https://localhost:8080/"
        },
        "id": "JGvgKkkeHtqq",
        "outputId": "d7c2e126-19dd-47f6-86fa-8bc87dc22dbc"
      },
      "execution_count": null,
      "outputs": [
        {
          "output_type": "stream",
          "name": "stdout",
          "text": [
            "Introduceti primul numar:4\n",
            "Introduceti al doilea numar:14\n",
            "a+b=  18\n"
          ]
        }
      ]
    },
    {
      "cell_type": "code",
      "metadata": {
        "id": "QQobuOA4FTXc",
        "colab": {
          "base_uri": "https://localhost:8080/"
        },
        "outputId": "8b0fc388-6a30-4305-9e5c-ad8df5b5690f"
      },
      "source": [
        "# Returning a value\n",
        "def suma_2nr(x,y):\n",
        "    \"\"\"Introduceti 2 numere si returneaza suma lor\"\"\"\n",
        "    return x + y\n",
        "  \n",
        "sum = suma_2nr(30,4)\n",
        "print(sum)\n",
        "\n"
      ],
      "execution_count": null,
      "outputs": [
        {
          "output_type": "stream",
          "name": "stdout",
          "text": [
            "7\n"
          ]
        }
      ]
    },
    {
      "cell_type": "code",
      "source": [
        "print(suma_2nr(30,4))\n",
        "\n"
      ],
      "metadata": {
        "colab": {
          "base_uri": "https://localhost:8080/"
        },
        "id": "_2Xa_c1tIYhK",
        "outputId": "05128c28-467b-48de-b92a-db9dc0f2c475"
      },
      "execution_count": null,
      "outputs": [
        {
          "output_type": "stream",
          "name": "stdout",
          "text": [
            "34\n"
          ]
        }
      ]
    },
    {
      "cell_type": "code",
      "source": [
        "?suma_2nr"
      ],
      "metadata": {
        "id": "R-0WYleqILzC"
      },
      "execution_count": null,
      "outputs": []
    },
    {
      "cell_type": "code",
      "metadata": {
        "id": "GP7prQZdC1hK"
      },
      "source": [
        "def num_input(nbr):\n",
        "  typed=input(nbr)\n",
        "  num=int(typed)\n",
        "  return num\n",
        "\n",
        "a=num_input('Introduceti primul numar:')\n",
        "b=num_input('Introduceti al doilea numar:')\n",
        "print('a+b= ', a+b)"
      ],
      "execution_count": null,
      "outputs": []
    },
    {
      "cell_type": "markdown",
      "metadata": {
        "id": "zpzLrni-oA83"
      },
      "source": [
        "###  2.Transferul de date din functii\n",
        "\n",
        "```python\n",
        "def inaltimea(m,cm):\n",
        "  total=(100*m)+cm\n",
        "  print(total,'cm inaltime')\n",
        "```\n",
        "\n"
      ]
    },
    {
      "cell_type": "code",
      "source": [
        "def inaltimea(m,cm):\n",
        "  total=(100*m)+cm\n",
        "  print(total,'cm inaltime')"
      ],
      "metadata": {
        "id": "GtVjmA3QIuH6"
      },
      "execution_count": null,
      "outputs": []
    },
    {
      "cell_type": "code",
      "source": [
        "inaltimea(1,72)"
      ],
      "metadata": {
        "colab": {
          "base_uri": "https://localhost:8080/"
        },
        "id": "qW09I931I9NJ",
        "outputId": "b9f31a0b-537c-482e-812f-34edbd16e61f"
      },
      "execution_count": null,
      "outputs": [
        {
          "output_type": "stream",
          "name": "stdout",
          "text": [
            "172 cm inaltime\n"
          ]
        }
      ]
    },
    {
      "cell_type": "markdown",
      "metadata": {
        "id": "QUpw0vJtpW7-"
      },
      "source": [
        "###  3.Schimbarea valorilor din interiorul unei variabile\n",
        "```python\n",
        "def func3(x):\n",
        "  print(x)\n",
        "  x=\"schimbare\"\n",
        "  print(x)\n",
        "\n",
        "y=\"original\"\n",
        "func3(y)\n",
        "\n",
        "```"
      ]
    },
    {
      "cell_type": "code",
      "source": [
        "def func3(x):\n",
        "  print(x)\n",
        "  x=\"schimbare\"\n",
        "  print(x)\n",
        "\n",
        "y=\"initial\"\n",
        "print(y)\n",
        "func3(y)"
      ],
      "metadata": {
        "colab": {
          "base_uri": "https://localhost:8080/"
        },
        "id": "qidTlkOOJXML",
        "outputId": "d3946ba7-c423-464d-9714-a1a1688fbfcd"
      },
      "execution_count": null,
      "outputs": [
        {
          "output_type": "stream",
          "name": "stdout",
          "text": [
            "initial\n",
            "initial\n",
            "schimbare\n"
          ]
        }
      ]
    },
    {
      "cell_type": "markdown",
      "metadata": {
        "id": "bEfdiLnGpbIj"
      },
      "source": [
        "\n",
        "###  4.Mascarea unei variabile globale\n",
        "```python\n",
        "x=7777\n",
        "def func4(x):\n",
        "  x=5555\n",
        "  print(x)\n",
        "\n",
        "func4()\n",
        "\n",
        "```"
      ]
    },
    {
      "cell_type": "code",
      "metadata": {
        "colab": {
          "base_uri": "https://localhost:8080/"
        },
        "id": "Uuz4eAaSpxkh",
        "outputId": "ec6755fe-bb6a-4a46-c80c-442f6c8e6ef5"
      },
      "source": [
        "x=1721\n",
        "def func4(x):\n",
        "  x=5555\n",
        "  print(x)\n",
        "print(x)\n",
        "func4(x)"
      ],
      "execution_count": null,
      "outputs": [
        {
          "output_type": "stream",
          "name": "stdout",
          "text": [
            "1721\n",
            "5555\n"
          ]
        }
      ]
    },
    {
      "cell_type": "markdown",
      "metadata": {
        "id": "h-o2P4fIOKJK"
      },
      "source": [
        "#### 👉 Let's play! \n",
        "<a target=\"_blank\" href=\"https://wordwall.net/play/25924/488/611?ref=embed-image\"><img src=\"//az779572.vo.msecnd.net/screens-200/a49df4d9a2f94847a19cf2acc5c6f4d2\" width=\"200\" height=\"150\" style=\"border:1px solid grey;display:block\" /><span>Xmas_edition_atelier3_1</span></a>"
      ]
    },
    {
      "cell_type": "markdown",
      "metadata": {
        "id": "wEAA84OBORpX"
      },
      "source": [
        "#### 👉 RETINE (Optional)\n"
      ]
    },
    {
      "cell_type": "markdown",
      "metadata": {
        "id": "gGrIweZ9C1hN"
      },
      "source": [
        "## Exercitii Lectie"
      ]
    },
    {
      "cell_type": "code",
      "metadata": {
        "id": "cuq2WYRGC1hO"
      },
      "source": [
        "#0.\n",
        "# Xmas\n",
        "#1.\n",
        "# Construieste o functie care afiseaza utilizatorului optiunea de a alege una din operatiunile Adunare, Inmultire\n",
        "# Apoi in functie de alegerea lui, invita sa introduca 2 numere de la tastatura,  efectueza operatiunea ceruta pentru a afisa rezultatul final.\n",
        "\n",
        "#2.\n",
        "# Construieste un program care sa invite utilizatorul sa ghiceasca numarul random ales de calculator. \n"
      ],
      "execution_count": null,
      "outputs": []
    },
    {
      "cell_type": "code",
      "metadata": {
        "id": "GqgbCSPMOEPs"
      },
      "source": [
        "#1"
      ],
      "execution_count": null,
      "outputs": []
    },
    {
      "cell_type": "code",
      "metadata": {
        "id": "7Hi37NLzOFN8"
      },
      "source": [
        "#2"
      ],
      "execution_count": null,
      "outputs": []
    },
    {
      "cell_type": "markdown",
      "metadata": {
        "id": "UPPxVSeXiye7"
      },
      "source": [
        "```python\n",
        "tree_height = input(\"Introduceti dimensiunea bradutului de Craciun : \")\n",
        "tree_height = int(tree_height)\n",
        "spaces = tree_height-1\n",
        "hashes = 1\n",
        "stump_spaces = tree_height-1\n",
        "\n",
        "while tree_height != 0 :\n",
        "    for i in range(spaces):\n",
        "        print(' ', end=\"\")\n",
        "    for i in range(hashes):\n",
        "        print('#', end=\"\")\n",
        "    print()\n",
        "    tree_height -= 1\n",
        "    spaces -= 1\n",
        "    hashes += 2\n",
        "for i in range(stump_spaces):\n",
        "    print(' ', end=\"\")\n",
        "print('#',end=\"\")\n",
        "```"
      ]
    },
    {
      "cell_type": "code",
      "source": [
        "tree_height = input(\"Introduceti dimensiunea bradutului de Craciun : \")\n",
        "tree_height = int(tree_height)\n",
        "spaces = tree_height-1\n",
        "hashes = 1\n",
        "stump_spaces = tree_height-1\n",
        "\n",
        "while tree_height != 0 :\n",
        "    for i in range(spaces):\n",
        "        print(' ', end=\"\")\n",
        "    for i in range(hashes):\n",
        "        print('#', end=\"\")\n",
        "    print()\n",
        "    tree_height -= 1\n",
        "    spaces -= 1\n",
        "    hashes += 2\n",
        "for i in range(stump_spaces):\n",
        "    print(' ', end=\"\")\n",
        "print('#',end=\"\")"
      ],
      "metadata": {
        "colab": {
          "base_uri": "https://localhost:8080/"
        },
        "id": "ifQQ9TdNNAip",
        "outputId": "441e6c78-df97-4d32-dabd-3ec6b49419b4"
      },
      "execution_count": null,
      "outputs": [
        {
          "output_type": "stream",
          "name": "stdout",
          "text": [
            "Introduceti dimensiunea bradutului de Craciun : 10\n",
            "         #\n",
            "        ###\n",
            "       #####\n",
            "      #######\n",
            "     #########\n",
            "    ###########\n",
            "   #############\n",
            "  ###############\n",
            " #################\n",
            "###################\n",
            "         #"
          ]
        }
      ]
    },
    {
      "cell_type": "markdown",
      "metadata": {
        "id": "STDgtLh_NZ2u"
      },
      "source": [
        "```python\n",
        "def add(x, y):\n",
        "    result = x + y\n",
        "    return result\n",
        "\n",
        "\n",
        "def mult(x, y):\n",
        "    result = x * y\n",
        "    return result\n",
        "\n",
        "print(\"1. Adunare\")\n",
        "print(\"2. Inmultire\")\n",
        "action = input(\"Alege un numar: \")\n",
        "a = input(\"Primul numar: \")\n",
        "a = float(a)\n",
        "b = input(\"Al doilea numar: \")\n",
        "b = float(b)\n",
        "\n",
        "if action == \"1\":\n",
        "    result = add(a,b)\n",
        "elif action == \"2\":\n",
        "    result = mult(a,b)\n",
        "else:\n",
        "    result = \"Error\"\n",
        "\n",
        "print( \"Raspuns: %s\" % result)\n",
        "```"
      ]
    },
    {
      "cell_type": "markdown",
      "metadata": {
        "id": "1OG8I-JxOIWD"
      },
      "source": [
        "```python\n",
        "from random import randint\n",
        "\n",
        "max_nbr = 100\n",
        "secret_nbr = randint(1, max_nbr)\n",
        "incercari = 0\n",
        "print(\"Ghiceste numarul de la 1 la %s\" % max_nbr)\n",
        "for i in range(100):\n",
        "    incercari = incercari + 1\n",
        "    incercare = input(\"Ghiceste: \")\n",
        "    if int(incercare) == secret_nbr :\n",
        "        print( \"Corect! Numarul de incarcari necesar: %s\" % incercari)\n",
        "        break\n",
        "    elif int(incercare) > secret_nbr :\n",
        "        print(\"Prea mare\")\n",
        "    else:\n",
        "        print(\"Prea mic\")\n",
        "```"
      ]
    },
    {
      "cell_type": "markdown",
      "metadata": {
        "id": "faxP5-ldC1hQ"
      },
      "source": [
        "## 👉 **RETINE** 👩🏼‍🏫 Elemente exersate\n",
        "\n",
        "\n",
        "1. Functii\n"
      ]
    },
    {
      "cell_type": "markdown",
      "metadata": {
        "id": "NmxluaQBEQrB"
      },
      "source": [
        "**Welcome!** Bine ati veni la atelierul de Python de la Coder Dojo Bucuresti, anul 2021/2022!\n",
        "\n",
        "![](https://www.python.org/static/community_logos/python-logo.png)"
      ]
    },
    {
      "cell_type": "markdown",
      "metadata": {
        "id": "Wg-C0LAQDtwc"
      },
      "source": [
        "# Introducere Lectia 4"
      ]
    },
    {
      "cell_type": "markdown",
      "metadata": {
        "id": "IGNNkYj2Dtwc"
      },
      "source": [
        "## 👨🏽‍💻 Libraria **pygame**\n",
        "\n",
        "*Lectia anterioara, am finalizate elementele de baza pentru a putea construi mini proiecte*\n",
        "\n",
        "**pygame** este o librarie ce include fragmente de cod care indeplinesc o anumita sarcina. Adica aduna tot codul intr-un pachet, i se atribuie un nume si poate fi oricand apelata ulterior. Functia ne ajuta sa simplicam codul unui program prin evitarea repetarii scrierii acelorasi linii de cod.\n",
        "\n",
        "\n",
        "## instalarea librariei\n",
        "```\n",
        "python3 -m pip install -U pygame --user\n",
        "```\n",
        "## pentru a verifica instalarea, se poate rula un program inclus in librarie.\n",
        "\n",
        "```\n",
        "python3 -m pygame.examples.aliens\n",
        "```\n",
        "\n",
        "Pentru mai multe detalii, se poate consulta direct pagina librariei de aici : [https://www.pygame.org/wiki/GettingStarted](https://www.pygame.org/wiki/GettingStarted)\n",
        "\n",
        "\n",
        "GUI - sau **g**raphical **u**ser **i**nterface\n",
        "\n",
        "activarea librariei ( local, in Google Colab nu functioneaza deoarece are nevoie de activarea anumitor functii disponibile local) \n",
        "\n",
        "```python\n",
        "import pygame\n",
        "```\n",
        "\n",
        "## elemente utile\n",
        "* pygame.init()\n",
        "* pygame.draw()\n",
        "* pygame.event.get()\n",
        "* pygame.quit()\n",
        "\n",
        "## setarea unui proiect pygame: \n",
        "* crearea unui screen (ecran) \n",
        "* initializarea variabilelor de necesare\n",
        "* bucla jocului, care include evenimentele, desenarea graficii si actualizarea afisajului. \n",
        "\n",
        "## Logica bucla proiect joc pygame\n",
        "```python\n",
        " running = True\n",
        " while running:\n",
        "    # Process input (events)\n",
        "    # Update\n",
        "    # Render (draw)\n",
        "    ```\n",
        "\n",
        "## folosirea si definirea culorilor \n",
        "\n",
        "![](http://www.pygame.org/thumb/9fc86b3fd5d79b31fce3383d9cc86e65.png)\n",
        "\n",
        "Color Name   | Color RGB tuple \n",
        "-------------------|------------------   \n",
        " white =       | ((255,255,255))\n",
        " blue = |((0,0,255))\n",
        " green = | ((0,255,0))\n",
        " red = | ((255,0,0))\n",
        " black = | ((0,0,0))\n",
        " orange = | ((255,100,10))\n",
        " yellow = | ((255,255,0))\n",
        " blue_green = | ((0,255,170))\n",
        " marroon = | ((115,0,0))\n",
        " lime = | ((180,255,100))\n",
        " pink = | ((255,100,180))\n",
        " purple = | ((240,0,255))\n",
        " gray = | ((127,127,127))\n",
        " magenta = | ((255,0,230))\n",
        " brown = | ((100,40,0))\n",
        " forest_green = | ((0,50,0))\n",
        " navy_blue = | ((0,0,100))\n",
        " rust = | ((210,150,75))\n",
        " dandilion_yellow = | ((255,200,0))\n",
        " highlighter = | ((255,255,100))\n",
        " sky_blue = | ((0,255,255))\n",
        " light_gray = | ((200,200,200))\n",
        " dark_gray = | ((50,50,50))\n",
        " tan = | ((230,220,170))\n",
        " coffee_brown = |((200,190,140))\n"
      ]
    },
    {
      "cell_type": "code",
      "source": [
        ""
      ],
      "metadata": {
        "id": "lKJFMU36FbOc"
      },
      "execution_count": null,
      "outputs": []
    },
    {
      "cell_type": "markdown",
      "metadata": {
        "id": "Ph9IfJFdDtwd"
      },
      "source": [
        "## 🧑🏻‍💻 Sa exersam\n",
        "\n",
        "---\n",
        "\n"
      ]
    },
    {
      "cell_type": "markdown",
      "metadata": {
        "id": "dGL8hIETDtwe"
      },
      "source": [
        "## Exercitii Lectie"
      ]
    },
    {
      "cell_type": "markdown",
      "source": [
        "De construit local un fundal de joc: \n",
        "* ecran cu titlu (set_caption)\n",
        "* folosirea culorilor \n",
        "* folosirea imaginilor ( blit)\n",
        "* folosirea formelor (draw)\n"
      ],
      "metadata": {
        "id": "so9mbcLJDtwe"
      }
    },
    {
      "cell_type": "markdown",
      "source": [
        "#### 👉 Let's play on wordwall! \n",
        "<a target=\"_blank\" href=\"https://wordwall.net/play/27503/281/346?ref=embed-image\"><img src=\"//az779572.vo.msecnd.net/screens-200/5efe8284105a49b9813225dcbe514ed0\" width=\"200\" height=\"150\" style=\"border:1px solid grey;display:block\" /><span>Pygame_init-01</span></a>"
      ],
      "metadata": {
        "id": "YmROEzMLCA2P"
      }
    },
    {
      "cell_type": "markdown",
      "metadata": {
        "id": "cZ3h4EMEDtwe"
      },
      "source": [
        "## 👉 **RETINE** 👩🏼‍🏫 Elemente exersate\n",
        "\n",
        "\n",
        "1. pygame.org\n",
        "2. pygame.init() - initializeaza fereastra jocului\n",
        "3. pygame.quit() - inchide fereestra jocului\n"
      ]
    },
    {
      "cell_type": "markdown",
      "source": [
        "Feedback Atelier 4: [click here](https://app.goretro.ai/dashboard/public-board/WtM8tAW2dlPAMLWBEWDa9jaAF48cKOMouKNiOqAAvrZMEoEknw)"
      ],
      "metadata": {
        "id": "Io7pEeFcjEKL"
      }
    },
    {
      "cell_type": "markdown",
      "metadata": {
        "id": "ofwD8sbW31Hb"
      },
      "source": [
        "# 📓 Glosar\n",
        "\n",
        "> --\n",
        "* Secventa: descrie rularea unui cod linie cu line la un moment dat \n",
        "* Functie: cod specific care intoarce un rezultat specific ( e.g. print, input)\n",
        "* Parametru: informatie care este atribuita unei functii\n",
        "* Cod: instructiunile dintr-un program\n",
        "* Variabila: informatie memorata in program catre care se face referinta prin nume ( e.g. nume=\"Ana\" print(nume) - variabila=nume)\n",
        "* Formatul informatiei: defineste tipul informatiei memorate intr-o variabila ( string( adica text), integer, float ( adica numare) \n",
        "* String: informatie de tip text .e.g. \"Ana\"\n",
        "* Integer: informatie de tip numere. e.g. 17\n",
        "* Float: informatie de tip numere. e.g. 17\n",
        "* Bug: o problema a programului in a genera comporamentul asteptat \n",
        "* Debugging: procesul identificarii si rezolvarii bug-urilor\n",
        "* IDE: integrated development environment, interfata prin care scriem codul. e.g. Mu, PyCharm, VS Code, etc\n",
        "* Concatenare: aducerea mai multor bucati de text impreuna\n",
        "* Sintaxa: structura sau layout corect al codului \n",
        "* Operatori: pentru comparatie ==(egal), !=(diferit), <(mai putin  decat), >(mai mare decat), <= (mai putin sau egal cu), >= (mai mare sau egal cu)\n",
        "\n",
        "> --\n",
        "* Secventa: descrie rularea unui cod linie cu line la un moment dat \n",
        "* Functie: cod specific care intoarce un rezultat specific ( e.g. print, input)\n",
        "* Parametru: informatie care este atribuita unei functii\n",
        "* Cod: instructiunile dintr-un program\n",
        "* Variabila: informatie memorata in program catre care se face referinta prin nume ( e.g. nume=\"Ana\" print(nume) - variabila=nume)\n",
        "* Formatul informatiei: defineste tipul informatiei memorate intr-o variabila ( string( adica text), integer, float ( adica numare) \n",
        "* String: informatie de tip text .e.g. \"Ana\"\n",
        "* Integer: informatie de tip numere. e.g. 17\n",
        "* Float: informatie de tip numere intregi. e.g. 17\n",
        "* Bug: o problema a programului in a genera comporamentul asteptat \n",
        "* Debugging: procesul identificarii si rezolvarii bug-urilor\n",
        "* IDE: integrated development environment, interfata prin care scriem codul. e.g. Mu, PyCharm, VS Code, etc\n",
        "* Concatenare: aducerea mai multor bucati de text impreuna\n",
        "* Sintaxa: structura sau layout corect al codului \n",
        "* Operatori: pentru comparatie ==(egal), !=(diferit), <(mai putin  decat), >(mai mare decat), <= (mai putin sau egal cu), >= (mai mare sau egal cu)\n",
        "* Global cuvant-cheie care iti permite sa modifici o variabila globala folosindu-te de functii\n",
        "* Apelarea unei functii solicitarea adresata calculatorului de a rula o anumita functie\n",
        "* Comentariu informatii suplimentare pentru oricine citeste codul . In python, este semnalizat cu un '#' la inceputul randului\n",
        "* def cuvand-cheie folosit in python pentru crearea propriilor functii \n",
        "> pygame.org"
      ]
    }
  ]
}